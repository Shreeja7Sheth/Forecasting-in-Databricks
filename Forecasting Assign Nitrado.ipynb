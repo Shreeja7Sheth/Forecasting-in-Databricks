{
 "cells": [
  {
   "cell_type": "markdown",
   "metadata": {
    "application/vnd.databricks.v1+cell": {
     "cellMetadata": {
      "byteLimit": 2048000,
      "rowLimit": 10000
     },
     "inputWidgets": {},
     "nuid": "96816ed7-b08a-4ca3-abb9-f99880c3535d",
     "showTitle": false,
     "title": ""
    }
   },
   "source": [
    "\n",
    "## Assignment\n",
    "\n",
    "### Data\n",
    "The data that you need for this task can be downloaded here: \n",
    "https://drive.google.com/file/d/1FD7tK1mKW5tRKgoyDGj_VZeK0OnB4GeV/view?usp=drive_link\n",
    "\n",
    "The CSV holds transaction data that represents the service bookings of a specific game between from 2018 to 2022. For data protection reasons, the data is not real data. However, the structure of the data is based on real data.\n",
    "\n",
    "### Business goal of this task\n",
    "The overall goal is to analyze a time series of sales data and predict future sales.\n",
    "\n",
    "### Tasks\n",
    "●\tGet familiar with the transaction data and analyze it\n",
    "\n",
    "●\tCreate a forecast model for the sales 2023\n",
    "\n",
    "●\tDescribe the steps you are taking and why you are taking them\n",
    "\n",
    "●\tDescribe possible influencing factors on sales and the forecast\n",
    "\n",
    "●\tDescribe your ideas on how to improve the quality of forecast\n",
    "\n",
    "●\tOptional: create a Sales Dashboard in Tableau and Visualize your analysis findings and sales predictions\n",
    "\n",
    "\n",
    "### Results and Conclusion\n",
    "The Analysis is done to create a forecasting model in PySpark to predict the service runtime amount for the independent features like 'Year', 'Month_Indexed', 'Day_Indexed','transaction_country_cd_Indexed','datacenter_country_cd_Indexed' for the year 2023 which were considered to be the influencing factors for the forecast. Linear Regression was used for the analysis since a the data was in a structured format with the prediction needed on one dependent variable which was service runtime based on a number of independent variables and would usually work well for this analysis.\n",
    "\n",
    "A random split of 75-25% was done for the training and testing data.\n",
    "\n",
    "The forecasting could be improved using other Unsupervised ML methods like Clustering and be evaluated based on the accuracy of the model.\n",
    "\n",
    "### Visualization\n",
    "Tableau results: https://public.tableau.com/views/ForecastingServerRuntime-2/Dashboard1?:language=en-US&publish=yes&:display_count=n&:origin=viz_share_link\n",
    "\n",
    "The above analysis shows the service runtime usage monthly, quarterly and yearly and forecasting of the service runtime performed on monthly and quarterly usages for the years from 2018 to 2025."
   ]
  },
  {
   "cell_type": "code",
   "execution_count": 0,
   "metadata": {
    "application/vnd.databricks.v1+cell": {
     "cellMetadata": {
      "byteLimit": 2048000,
      "rowLimit": 10000
     },
     "inputWidgets": {},
     "nuid": "6482be4c-f067-47c9-b0ac-35c938b94601",
     "showTitle": false,
     "title": ""
    }
   },
   "outputs": [
    {
     "output_type": "stream",
     "name": "stdout",
     "output_type": "stream",
     "text": [
      "+--------------------+-------------------+----------------------+-----------------------+--------------------+-----------------------+---------------------+--------------------+--------------------------+-----------------+----------------+\n|      transaction_cd|     transaction_ts|transaction_country_cd|transaction_currency_cd|             user_cd|user_profile_country_cd|datacenter_country_cd|          service_cd|service_runtime_amount_sec|service_slot_size|service_ram_size|\n+--------------------+-------------------+----------------------+-----------------------+--------------------+-----------------------+---------------------+--------------------+--------------------------+-----------------+----------------+\n|cd1e056a1b1ec8abc...|2018-01-01 02:35:29|                    DE|                    EUR|995db235689f65853...|                     DE|                   DE|3a3d5c19863eeb78d...|                   2592000|               10|            1024|\n|2b53c3e03e5a760d8...|2018-01-01 02:36:08|                    US|                    USD|9b7d37b70b0655326...|                     US|                   US|478dfedaed12ab5b0...|                   7776000|               10|            1024|\n|91e2569628ed1bb2d...|2018-01-01 03:57:15|                    US|                    EUR|4bf5a82bafabb5ac4...|                     US|                   US|956a473ce3340f7b3...|                    259200|               10|            1024|\n|93ebccfabe1bc88b5...|2018-01-01 10:44:08|                    US|                    USD|209ae671dcca6aa7b...|                     US|                   US|00d53cc8465d54903...|                   2592000|               10|            1024|\n|fd36288ce3e1eb573...|2018-01-01 13:23:05|                    ES|                    EUR|d0ef4083282909d2b...|                     ES|                   DE|5309bb39028b760e7...|                   2592000|               10|            1024|\n|cea4b963eb9fb87f8...|2018-01-01 14:12:41|                    FR|                    EUR|df9db6bdc41a4e9af...|                     FR|                   DE|db804635f8bb3a37a...|                   2592000|               10|            1024|\n|8cd5b83306c20ba5c...|2018-01-01 14:12:56|                    DE|                    EUR|b3313d03c0b6f9403...|                     DE|                   DE|b2cc108143d63b492...|                   2592000|               10|            1024|\n|ed356bcd163aa745f...|2018-01-01 15:15:45|                    DE|                    EUR|0989fb0974f861bc4...|                     DE|                   DE|17b0bea1304a5ce61...|                   2592000|               10|            1024|\n|bef6575dd4fd075e5...|2018-01-01 15:26:06|                    DK|                    DKK|606537d207e786353...|                     DK|                   DE|d64913016bfe53a3d...|                   2592000|               10|            1024|\n|7ecdf4bfa2761f2d4...|2018-01-01 15:29:41|                    AT|                    EUR|42823f591e799197b...|                     AT|                   DE|c3159cf7cde0403da...|                   2592000|               10|            1024|\n|610f0890553dac863...|2018-01-01 16:06:05|                    DE|                    EUR|624d2f7c3e58f7498...|                     DE|                   DE|60f699f6ddf0cd2b3...|                    259200|               10|            1024|\n|5d1ca5a6a74a52e7a...|2018-01-01 17:08:41|                    FI|                    EUR|4f6971b465e0a8be0...|                     FI|                   DE|0c88476bbb667b6de...|                   2592000|               16|            1024|\n|9f1986508a4ac284a...|2018-01-01 17:44:54|                    DE|                    EUR|e67952227fdec4b5d...|                     DE|                   DE|6c5a520205140479f...|                   2592000|               10|            1024|\n|e49d665f2ecd9f047...|2018-01-01 18:27:33|                    DE|                    EUR|c977f417535fb4542...|                     DE|                   DE|c503ede35b107ca60...|                   2592000|               10|            1024|\n|7a2eddaacd02e36bc...|2018-01-01 18:58:14|                    DK|                    DKK|c11f267d1638987af...|                     DK|                   US|9f24e769fead438ea...|                   2592000|               10|            1024|\n|ff176d947296a325f...|2018-01-01 19:29:09|                    SE|                    SEK|d3f5fcc50f1df2b41...|                     SE|                   DE|8185e964ee1b285d5...|                   2592000|               10|            1024|\n|bfdc76e217be66ce6...|2018-01-01 21:31:28|                    DE|                    EUR|2f9a00bc101c16bbc...|                     DE|                   DE|12ab4c64acf3a88db...|                   2592000|               10|            1024|\n|ef6e4d7438d8b0268...|2018-01-01 22:38:04|                    US|                    USD|bde78918c31d58660...|                     US|                   US|bc8cfbb84a763d132...|                   2592000|               10|            1024|\n|c090f1ce1aebf6fbe...|2018-01-01 23:58:34|                    CH|                    EUR|e98ef9e3127aa79a6...|                     CH|                   DE|fd4ca1a6de453bcb5...|                   2592000|               10|            1024|\n|311e7efc50fb0b7bd...|2018-01-02 00:17:45|                    US|                    USD|5a97c2559c303299c...|                     US|                   US|a216a9dca82a5ccfe...|                   2592000|               10|            1024|\n+--------------------+-------------------+----------------------+-----------------------+--------------------+-----------------------+---------------------+--------------------+--------------------------+-----------------+----------------+\nonly showing top 20 rows\n\nroot\n |-- transaction_cd: string (nullable = true)\n |-- transaction_ts: timestamp (nullable = true)\n |-- transaction_country_cd: string (nullable = true)\n |-- transaction_currency_cd: string (nullable = true)\n |-- user_cd: string (nullable = true)\n |-- user_profile_country_cd: string (nullable = true)\n |-- datacenter_country_cd: string (nullable = true)\n |-- service_cd: string (nullable = true)\n |-- service_runtime_amount_sec: integer (nullable = true)\n |-- service_slot_size: integer (nullable = true)\n |-- service_ram_size: string (nullable = true)\n\n"
     ]
    }
   ],
   "source": [
    "# File location and type\n",
    "file_location = \"/FileStore/tables/data_ds_challenge.csv\"\n",
    "file_type = \"csv\"\n",
    "\n",
    "# Read my data\n",
    "df_pyspark=spark.read.csv(file_location,header=True,inferSchema=True)\n",
    "df_pyspark.show()\n",
    "df_pyspark.printSchema() \n"
   ]
  },
  {
   "cell_type": "code",
   "execution_count": 0,
   "metadata": {
    "application/vnd.databricks.v1+cell": {
     "cellMetadata": {
      "byteLimit": 2048000,
      "rowLimit": 10000
     },
     "inputWidgets": {},
     "nuid": "f7588555-c55b-4618-bed8-e87292aa5128",
     "showTitle": false,
     "title": ""
    }
   },
   "outputs": [
    {
     "output_type": "stream",
     "name": "stdout",
     "output_type": "stream",
     "text": [
      "+-------------------+----------------------+---------------------+--------------------------+\n|     transaction_ts|transaction_country_cd|datacenter_country_cd|service_runtime_amount_sec|\n+-------------------+----------------------+---------------------+--------------------------+\n|2018-01-01 02:35:29|                    DE|                   DE|                   2592000|\n|2018-01-01 02:36:08|                    US|                   US|                   7776000|\n|2018-01-01 03:57:15|                    US|                   US|                    259200|\n|2018-01-01 10:44:08|                    US|                   US|                   2592000|\n|2018-01-01 13:23:05|                    ES|                   DE|                   2592000|\n|2018-01-01 14:12:41|                    FR|                   DE|                   2592000|\n|2018-01-01 14:12:56|                    DE|                   DE|                   2592000|\n|2018-01-01 15:15:45|                    DE|                   DE|                   2592000|\n|2018-01-01 15:26:06|                    DK|                   DE|                   2592000|\n|2018-01-01 15:29:41|                    AT|                   DE|                   2592000|\n|2018-01-01 16:06:05|                    DE|                   DE|                    259200|\n|2018-01-01 17:08:41|                    FI|                   DE|                   2592000|\n|2018-01-01 17:44:54|                    DE|                   DE|                   2592000|\n|2018-01-01 18:27:33|                    DE|                   DE|                   2592000|\n|2018-01-01 18:58:14|                    DK|                   US|                   2592000|\n|2018-01-01 19:29:09|                    SE|                   DE|                   2592000|\n|2018-01-01 21:31:28|                    DE|                   DE|                   2592000|\n|2018-01-01 22:38:04|                    US|                   US|                   2592000|\n|2018-01-01 23:58:34|                    CH|                   DE|                   2592000|\n|2018-01-02 00:17:45|                    US|                   US|                   2592000|\n+-------------------+----------------------+---------------------+--------------------------+\nonly showing top 20 rows\n\n"
     ]
    }
   ],
   "source": [
    "df_pyspark2=df_pyspark.drop('transaction_cd','transaction_currency_cd','user_cd','user_profile_country_cd','service_cd','service_slot_size','service_ram_size')\n",
    "df_pyspark2.show()"
   ]
  },
  {
   "cell_type": "code",
   "execution_count": 0,
   "metadata": {
    "application/vnd.databricks.v1+cell": {
     "cellMetadata": {
      "byteLimit": 2048000,
      "rowLimit": 10000
     },
     "inputWidgets": {},
     "nuid": "346639b6-2a21-413c-ab00-2eb6cbc95b67",
     "showTitle": false,
     "title": ""
    }
   },
   "outputs": [],
   "source": [
    "from pyspark.sql.functions import *\n",
    "\n",
    "df_pyspark2=df_pyspark2.select(\n",
    "          date_format(df_pyspark2.transaction_ts,\n",
    "                      \"yyyy\").alias(\"Year\"), \n",
    "          date_format(df_pyspark2.transaction_ts, \n",
    "                      \"MMMM\").alias(\"Month\"), \n",
    "          date_format(df_pyspark2.transaction_ts, \n",
    "                      \"dd\").alias(\"Date\"), \n",
    "          date_format(df_pyspark2.transaction_ts, \n",
    "                      \"MM/dd/yyyy\").alias(\"Date\"), \n",
    "          date_format(df_pyspark2.transaction_ts, \n",
    "                      \"hh:mm:ss\").alias(\"Time\"), \n",
    "          date_format(df_pyspark2.transaction_ts, \n",
    "                      \"E\").alias(\"Day\"),\n",
    "          df_pyspark2.transaction_country_cd,df_pyspark2.datacenter_country_cd,df_pyspark2.service_runtime_amount_sec\n",
    "          )\n"
   ]
  },
  {
   "cell_type": "code",
   "execution_count": 0,
   "metadata": {
    "application/vnd.databricks.v1+cell": {
     "cellMetadata": {
      "byteLimit": 2048000,
      "rowLimit": 10000
     },
     "inputWidgets": {},
     "nuid": "75636a44-e33b-4016-8234-55b1524d0384",
     "showTitle": false,
     "title": ""
    }
   },
   "outputs": [
    {
     "output_type": "stream",
     "name": "stdout",
     "output_type": "stream",
     "text": [
      "+----+-------+----+----------+--------+---+----------------------+---------------------+--------------------------+\n|Year|  Month|Date|      Date|    Time|Day|transaction_country_cd|datacenter_country_cd|service_runtime_amount_sec|\n+----+-------+----+----------+--------+---+----------------------+---------------------+--------------------------+\n|2018|January|  01|01/01/2018|02:35:29|Mon|                    DE|                   DE|                   2592000|\n|2018|January|  01|01/01/2018|02:36:08|Mon|                    US|                   US|                   7776000|\n|2018|January|  01|01/01/2018|03:57:15|Mon|                    US|                   US|                    259200|\n|2018|January|  01|01/01/2018|10:44:08|Mon|                    US|                   US|                   2592000|\n|2018|January|  01|01/01/2018|01:23:05|Mon|                    ES|                   DE|                   2592000|\n|2018|January|  01|01/01/2018|02:12:41|Mon|                    FR|                   DE|                   2592000|\n|2018|January|  01|01/01/2018|02:12:56|Mon|                    DE|                   DE|                   2592000|\n|2018|January|  01|01/01/2018|03:15:45|Mon|                    DE|                   DE|                   2592000|\n|2018|January|  01|01/01/2018|03:26:06|Mon|                    DK|                   DE|                   2592000|\n|2018|January|  01|01/01/2018|03:29:41|Mon|                    AT|                   DE|                   2592000|\n|2018|January|  01|01/01/2018|04:06:05|Mon|                    DE|                   DE|                    259200|\n|2018|January|  01|01/01/2018|05:08:41|Mon|                    FI|                   DE|                   2592000|\n|2018|January|  01|01/01/2018|05:44:54|Mon|                    DE|                   DE|                   2592000|\n|2018|January|  01|01/01/2018|06:27:33|Mon|                    DE|                   DE|                   2592000|\n|2018|January|  01|01/01/2018|06:58:14|Mon|                    DK|                   US|                   2592000|\n|2018|January|  01|01/01/2018|07:29:09|Mon|                    SE|                   DE|                   2592000|\n|2018|January|  01|01/01/2018|09:31:28|Mon|                    DE|                   DE|                   2592000|\n|2018|January|  01|01/01/2018|10:38:04|Mon|                    US|                   US|                   2592000|\n|2018|January|  01|01/01/2018|11:58:34|Mon|                    CH|                   DE|                   2592000|\n|2018|January|  02|01/02/2018|12:17:45|Tue|                    US|                   US|                   2592000|\n+----+-------+----+----------+--------+---+----------------------+---------------------+--------------------------+\nonly showing top 20 rows\n\n"
     ]
    }
   ],
   "source": [
    "df_pyspark2.show()"
   ]
  },
  {
   "cell_type": "code",
   "execution_count": 0,
   "metadata": {
    "application/vnd.databricks.v1+cell": {
     "cellMetadata": {
      "byteLimit": 2048000,
      "rowLimit": 10000
     },
     "inputWidgets": {},
     "nuid": "11179fb8-514c-4bd8-8bf7-9d8b2f53a660",
     "showTitle": false,
     "title": ""
    }
   },
   "outputs": [
    {
     "output_type": "stream",
     "name": "stdout",
     "output_type": "stream",
     "text": [
      "+----+-------+----+----------+--------+---+----------------------+---------------------+--------------------------+-------------+-----------+------------------------------+-----------------------------+\n|Year|  Month|Date|      Date|    Time|Day|transaction_country_cd|datacenter_country_cd|service_runtime_amount_sec|Month_Indexed|Day_Indexed|transaction_country_cd_Indexed|datacenter_country_cd_Indexed|\n+----+-------+----+----------+--------+---+----------------------+---------------------+--------------------------+-------------+-----------+------------------------------+-----------------------------+\n|2018|January|  01|01/01/2018|02:35:29|Mon|                    DE|                   DE|                   2592000|          2.0|        3.0|                           0.0|                          0.0|\n|2018|January|  01|01/01/2018|02:36:08|Mon|                    US|                   US|                   7776000|          2.0|        3.0|                           1.0|                          1.0|\n|2018|January|  01|01/01/2018|03:57:15|Mon|                    US|                   US|                    259200|          2.0|        3.0|                           1.0|                          1.0|\n|2018|January|  01|01/01/2018|10:44:08|Mon|                    US|                   US|                   2592000|          2.0|        3.0|                           1.0|                          1.0|\n|2018|January|  01|01/01/2018|01:23:05|Mon|                    ES|                   DE|                   2592000|          2.0|        3.0|                           8.0|                          0.0|\n|2018|January|  01|01/01/2018|02:12:41|Mon|                    FR|                   DE|                   2592000|          2.0|        3.0|                           2.0|                          0.0|\n|2018|January|  01|01/01/2018|02:12:56|Mon|                    DE|                   DE|                   2592000|          2.0|        3.0|                           0.0|                          0.0|\n|2018|January|  01|01/01/2018|03:15:45|Mon|                    DE|                   DE|                   2592000|          2.0|        3.0|                           0.0|                          0.0|\n|2018|January|  01|01/01/2018|03:26:06|Mon|                    DK|                   DE|                   2592000|          2.0|        3.0|                           9.0|                          0.0|\n|2018|January|  01|01/01/2018|03:29:41|Mon|                    AT|                   DE|                   2592000|          2.0|        3.0|                           4.0|                          0.0|\n|2018|January|  01|01/01/2018|04:06:05|Mon|                    DE|                   DE|                    259200|          2.0|        3.0|                           0.0|                          0.0|\n|2018|January|  01|01/01/2018|05:08:41|Mon|                    FI|                   DE|                   2592000|          2.0|        3.0|                          22.0|                          0.0|\n|2018|January|  01|01/01/2018|05:44:54|Mon|                    DE|                   DE|                   2592000|          2.0|        3.0|                           0.0|                          0.0|\n|2018|January|  01|01/01/2018|06:27:33|Mon|                    DE|                   DE|                   2592000|          2.0|        3.0|                           0.0|                          0.0|\n|2018|January|  01|01/01/2018|06:58:14|Mon|                    DK|                   US|                   2592000|          2.0|        3.0|                           9.0|                          1.0|\n|2018|January|  01|01/01/2018|07:29:09|Mon|                    SE|                   DE|                   2592000|          2.0|        3.0|                          12.0|                          0.0|\n|2018|January|  01|01/01/2018|09:31:28|Mon|                    DE|                   DE|                   2592000|          2.0|        3.0|                           0.0|                          0.0|\n|2018|January|  01|01/01/2018|10:38:04|Mon|                    US|                   US|                   2592000|          2.0|        3.0|                           1.0|                          1.0|\n|2018|January|  01|01/01/2018|11:58:34|Mon|                    CH|                   DE|                   2592000|          2.0|        3.0|                          11.0|                          0.0|\n|2018|January|  02|01/02/2018|12:17:45|Tue|                    US|                   US|                   2592000|          2.0|        5.0|                           1.0|                          1.0|\n+----+-------+----+----------+--------+---+----------------------+---------------------+--------------------------+-------------+-----------+------------------------------+-----------------------------+\nonly showing top 20 rows\n\n"
     ]
    }
   ],
   "source": [
    "from pyspark.ml.feature import StringIndexer\n",
    "\n",
    "# StringIndexer Initialization\n",
    "indexer = StringIndexer(inputCols=[\"Month\", \"Day\", \"transaction_country_cd\", \"datacenter_country_cd\"],outputCols = [\"Month_Indexed\",\"Day_Indexed\", \"transaction_country_cd_Indexed\", \"datacenter_country_cd_Indexed\"])\n",
    "\n",
    "# Transform the DataFrame using the fitted StringIndexer model\n",
    "df_indexed = indexer.fit(df_pyspark2).transform(df_pyspark2)\n",
    "df_indexed.show()"
   ]
  },
  {
   "cell_type": "code",
   "execution_count": 0,
   "metadata": {
    "application/vnd.databricks.v1+cell": {
     "cellMetadata": {
      "byteLimit": 2048000,
      "rowLimit": 10000
     },
     "inputWidgets": {},
     "nuid": "0d9c4921-c6c2-4ec2-ba85-294c5b10326e",
     "showTitle": false,
     "title": ""
    }
   },
   "outputs": [
    {
     "output_type": "stream",
     "name": "stdout",
     "output_type": "stream",
     "text": [
      "+----+--------------------------+-------------+-----------+------------------------------+-----------------------------+\n|Year|service_runtime_amount_sec|Month_Indexed|Day_Indexed|transaction_country_cd_Indexed|datacenter_country_cd_Indexed|\n+----+--------------------------+-------------+-----------+------------------------------+-----------------------------+\n|2018|                   2592000|          2.0|        3.0|                           0.0|                          0.0|\n|2018|                   7776000|          2.0|        3.0|                           1.0|                          1.0|\n|2018|                    259200|          2.0|        3.0|                           1.0|                          1.0|\n|2018|                   2592000|          2.0|        3.0|                           1.0|                          1.0|\n|2018|                   2592000|          2.0|        3.0|                           8.0|                          0.0|\n|2018|                   2592000|          2.0|        3.0|                           2.0|                          0.0|\n|2018|                   2592000|          2.0|        3.0|                           0.0|                          0.0|\n|2018|                   2592000|          2.0|        3.0|                           0.0|                          0.0|\n|2018|                   2592000|          2.0|        3.0|                           9.0|                          0.0|\n|2018|                   2592000|          2.0|        3.0|                           4.0|                          0.0|\n|2018|                    259200|          2.0|        3.0|                           0.0|                          0.0|\n|2018|                   2592000|          2.0|        3.0|                          22.0|                          0.0|\n|2018|                   2592000|          2.0|        3.0|                           0.0|                          0.0|\n|2018|                   2592000|          2.0|        3.0|                           0.0|                          0.0|\n|2018|                   2592000|          2.0|        3.0|                           9.0|                          1.0|\n|2018|                   2592000|          2.0|        3.0|                          12.0|                          0.0|\n|2018|                   2592000|          2.0|        3.0|                           0.0|                          0.0|\n|2018|                   2592000|          2.0|        3.0|                           1.0|                          1.0|\n|2018|                   2592000|          2.0|        3.0|                          11.0|                          0.0|\n|2018|                   2592000|          2.0|        5.0|                           1.0|                          1.0|\n+----+--------------------------+-------------+-----------+------------------------------+-----------------------------+\nonly showing top 20 rows\n\n"
     ]
    }
   ],
   "source": [
    "df_indexed=df_indexed.drop('Date','Time','Month','Day','transaction_country_cd','datacenter_country_cd')\n",
    "df_indexed.show()"
   ]
  },
  {
   "cell_type": "code",
   "execution_count": 0,
   "metadata": {
    "application/vnd.databricks.v1+cell": {
     "cellMetadata": {
      "byteLimit": 2048000,
      "rowLimit": 10000
     },
     "inputWidgets": {},
     "nuid": "be594438-332d-4c81-9dce-027daef56442",
     "showTitle": false,
     "title": ""
    }
   },
   "outputs": [],
   "source": [
    "from pyspark.sql.types import IntegerType\n",
    "df_indexed = df_indexed.withColumn(\"Year\", df_indexed[\"Year\"].cast(IntegerType()))"
   ]
  },
  {
   "cell_type": "code",
   "execution_count": 0,
   "metadata": {
    "application/vnd.databricks.v1+cell": {
     "cellMetadata": {
      "byteLimit": 2048000,
      "rowLimit": 10000
     },
     "inputWidgets": {},
     "nuid": "ba13ad6e-9de7-48b6-9d1e-9a28739d1614",
     "showTitle": false,
     "title": ""
    }
   },
   "outputs": [
    {
     "output_type": "stream",
     "name": "stdout",
     "output_type": "stream",
     "text": [
      "root\n |-- Year: integer (nullable = true)\n |-- service_runtime_amount_sec: integer (nullable = true)\n |-- Month_Indexed: double (nullable = false)\n |-- Day_Indexed: double (nullable = false)\n |-- transaction_country_cd_Indexed: double (nullable = false)\n |-- datacenter_country_cd_Indexed: double (nullable = false)\n\n"
     ]
    }
   ],
   "source": [
    "df_indexed.printSchema()"
   ]
  },
  {
   "cell_type": "code",
   "execution_count": 0,
   "metadata": {
    "application/vnd.databricks.v1+cell": {
     "cellMetadata": {
      "byteLimit": 2048000,
      "rowLimit": 10000
     },
     "inputWidgets": {},
     "nuid": "bcf6e0bc-b660-4816-82fb-baead4ca8796",
     "showTitle": false,
     "title": ""
    }
   },
   "outputs": [
    {
     "output_type": "stream",
     "name": "stdout",
     "output_type": "stream",
     "text": [
      "+----+--------------------------+-------------+-----------+------------------------------+-----------------------------+\n|Year|service_runtime_amount_sec|Month_Indexed|Day_Indexed|transaction_country_cd_Indexed|datacenter_country_cd_Indexed|\n+----+--------------------------+-------------+-----------+------------------------------+-----------------------------+\n|2018|                   2592000|          2.0|        3.0|                           0.0|                          0.0|\n|2018|                   7776000|          2.0|        3.0|                           1.0|                          1.0|\n|2018|                    259200|          2.0|        3.0|                           1.0|                          1.0|\n|2018|                   2592000|          2.0|        3.0|                           1.0|                          1.0|\n|2018|                   2592000|          2.0|        3.0|                           8.0|                          0.0|\n|2018|                   2592000|          2.0|        3.0|                           2.0|                          0.0|\n|2018|                   2592000|          2.0|        3.0|                           0.0|                          0.0|\n|2018|                   2592000|          2.0|        3.0|                           0.0|                          0.0|\n|2018|                   2592000|          2.0|        3.0|                           9.0|                          0.0|\n|2018|                   2592000|          2.0|        3.0|                           4.0|                          0.0|\n|2018|                    259200|          2.0|        3.0|                           0.0|                          0.0|\n|2018|                   2592000|          2.0|        3.0|                          22.0|                          0.0|\n|2018|                   2592000|          2.0|        3.0|                           0.0|                          0.0|\n|2018|                   2592000|          2.0|        3.0|                           0.0|                          0.0|\n|2018|                   2592000|          2.0|        3.0|                           9.0|                          1.0|\n|2018|                   2592000|          2.0|        3.0|                          12.0|                          0.0|\n|2018|                   2592000|          2.0|        3.0|                           0.0|                          0.0|\n|2018|                   2592000|          2.0|        3.0|                           1.0|                          1.0|\n|2018|                   2592000|          2.0|        3.0|                          11.0|                          0.0|\n|2018|                   2592000|          2.0|        5.0|                           1.0|                          1.0|\n+----+--------------------------+-------------+-----------+------------------------------+-----------------------------+\nonly showing top 20 rows\n\n"
     ]
    }
   ],
   "source": [
    "df_indexed.show()"
   ]
  },
  {
   "cell_type": "code",
   "execution_count": 0,
   "metadata": {
    "application/vnd.databricks.v1+cell": {
     "cellMetadata": {
      "byteLimit": 2048000,
      "rowLimit": 10000
     },
     "inputWidgets": {},
     "nuid": "39c4f5bf-1a8a-443c-bb1b-4cbf15a18b7a",
     "showTitle": false,
     "title": ""
    }
   },
   "outputs": [
    {
     "output_type": "stream",
     "name": "stdout",
     "output_type": "stream",
     "text": [
      "Out[68]: ['Year',\n 'service_runtime_amount_sec',\n 'Month_Indexed',\n 'Day_Indexed',\n 'transaction_country_cd_Indexed',\n 'datacenter_country_cd_Indexed']"
     ]
    }
   ],
   "source": [
    "df_indexed.columns"
   ]
  },
  {
   "cell_type": "code",
   "execution_count": 0,
   "metadata": {
    "application/vnd.databricks.v1+cell": {
     "cellMetadata": {
      "byteLimit": 2048000,
      "rowLimit": 10000
     },
     "inputWidgets": {},
     "nuid": "857496d5-db8c-4dcb-bb4a-0f8e7b610d27",
     "showTitle": false,
     "title": ""
    }
   },
   "outputs": [],
   "source": [
    "from pyspark.ml.feature import VectorAssembler \n",
    "\n",
    "featureassembler=VectorAssembler(inputCols=['Year', 'Month_Indexed', 'Day_Indexed','transaction_country_cd_Indexed','datacenter_country_cd_Indexed'\n",
    "],outputCol=\"Independent Features\")\n",
    "output=featureassembler.transform(df_indexed)\n"
   ]
  },
  {
   "cell_type": "code",
   "execution_count": 0,
   "metadata": {
    "application/vnd.databricks.v1+cell": {
     "cellMetadata": {
      "byteLimit": 2048000,
      "rowLimit": 10000
     },
     "inputWidgets": {},
     "nuid": "1e975ae7-4d76-4c0c-b74f-6c55e102f739",
     "showTitle": false,
     "title": ""
    }
   },
   "outputs": [
    {
     "output_type": "stream",
     "name": "stdout",
     "output_type": "stream",
     "text": [
      "+--------------------+\n|Independent Features|\n+--------------------+\n|[2018.0,2.0,3.0,0...|\n|[2018.0,2.0,3.0,1...|\n|[2018.0,2.0,3.0,1...|\n|[2018.0,2.0,3.0,1...|\n|[2018.0,2.0,3.0,8...|\n|[2018.0,2.0,3.0,2...|\n|[2018.0,2.0,3.0,0...|\n|[2018.0,2.0,3.0,0...|\n|[2018.0,2.0,3.0,9...|\n|[2018.0,2.0,3.0,4...|\n|[2018.0,2.0,3.0,0...|\n|[2018.0,2.0,3.0,2...|\n|[2018.0,2.0,3.0,0...|\n|[2018.0,2.0,3.0,0...|\n|[2018.0,2.0,3.0,9...|\n|[2018.0,2.0,3.0,1...|\n|[2018.0,2.0,3.0,0...|\n|[2018.0,2.0,3.0,1...|\n|[2018.0,2.0,3.0,1...|\n|[2018.0,2.0,5.0,1...|\n+--------------------+\nonly showing top 20 rows\n\n"
     ]
    }
   ],
   "source": [
    "output.select(\"Independent Features\").show()"
   ]
  },
  {
   "cell_type": "code",
   "execution_count": 0,
   "metadata": {
    "application/vnd.databricks.v1+cell": {
     "cellMetadata": {
      "byteLimit": 2048000,
      "rowLimit": 10000
     },
     "inputWidgets": {},
     "nuid": "f6c1ac5c-09dd-431e-919a-a21310ac97fb",
     "showTitle": false,
     "title": ""
    }
   },
   "outputs": [
    {
     "output_type": "stream",
     "name": "stdout",
     "output_type": "stream",
     "text": [
      "+--------------------+--------------------------+\n|Independent Features|service_runtime_amount_sec|\n+--------------------+--------------------------+\n|[2018.0,2.0,3.0,0...|                   2592000|\n|[2018.0,2.0,3.0,1...|                   7776000|\n|[2018.0,2.0,3.0,1...|                    259200|\n|[2018.0,2.0,3.0,1...|                   2592000|\n|[2018.0,2.0,3.0,8...|                   2592000|\n|[2018.0,2.0,3.0,2...|                   2592000|\n|[2018.0,2.0,3.0,0...|                   2592000|\n|[2018.0,2.0,3.0,0...|                   2592000|\n|[2018.0,2.0,3.0,9...|                   2592000|\n|[2018.0,2.0,3.0,4...|                   2592000|\n|[2018.0,2.0,3.0,0...|                    259200|\n|[2018.0,2.0,3.0,2...|                   2592000|\n|[2018.0,2.0,3.0,0...|                   2592000|\n|[2018.0,2.0,3.0,0...|                   2592000|\n|[2018.0,2.0,3.0,9...|                   2592000|\n|[2018.0,2.0,3.0,1...|                   2592000|\n|[2018.0,2.0,3.0,0...|                   2592000|\n|[2018.0,2.0,3.0,1...|                   2592000|\n|[2018.0,2.0,3.0,1...|                   2592000|\n|[2018.0,2.0,5.0,1...|                   2592000|\n+--------------------+--------------------------+\nonly showing top 20 rows\n\n"
     ]
    }
   ],
   "source": [
    "finalized_data=output.select(\"Independent Features\",\"service_runtime_amount_sec\")\n",
    "finalized_data.show()"
   ]
  },
  {
   "cell_type": "code",
   "execution_count": 0,
   "metadata": {
    "application/vnd.databricks.v1+cell": {
     "cellMetadata": {
      "byteLimit": 2048000,
      "rowLimit": 10000
     },
     "inputWidgets": {},
     "nuid": "1e007c70-7bf0-4c65-9f37-ba1e74548870",
     "showTitle": false,
     "title": ""
    }
   },
   "outputs": [],
   "source": [
    "from pyspark.ml.regression import LinearRegression\n",
    "#train test split\n",
    "train_data, test_data=finalized_data.randomSplit([0.75,0.25])\n",
    "regressor=LinearRegression(featuresCol=\"Independent Features\",labelCol=\"service_runtime_amount_sec\")\n",
    "regressor=regressor.fit(train_data)"
   ]
  },
  {
   "cell_type": "code",
   "execution_count": 0,
   "metadata": {
    "application/vnd.databricks.v1+cell": {
     "cellMetadata": {
      "byteLimit": 2048000,
      "rowLimit": 10000
     },
     "inputWidgets": {},
     "nuid": "f49d7d5c-da79-40fa-a95f-c44e564cae34",
     "showTitle": false,
     "title": ""
    }
   },
   "outputs": [
    {
     "output_type": "stream",
     "name": "stdout",
     "output_type": "stream",
     "text": [
      "Out[77]: DenseVector([-28032.3513, 4838.9956, 2766.2799, -5238.9879, 1302.2741])"
     ]
    }
   ],
   "source": [
    "regressor.coefficients"
   ]
  },
  {
   "cell_type": "code",
   "execution_count": 0,
   "metadata": {
    "application/vnd.databricks.v1+cell": {
     "cellMetadata": {
      "byteLimit": 2048000,
      "rowLimit": 10000
     },
     "inputWidgets": {},
     "nuid": "26d302e7-69ae-4651-aa75-1d5dc3914dcc",
     "showTitle": false,
     "title": ""
    }
   },
   "outputs": [
    {
     "output_type": "stream",
     "name": "stdout",
     "output_type": "stream",
     "text": [
      "Out[78]: 59665737.471472844"
     ]
    }
   ],
   "source": [
    "regressor.intercept"
   ]
  },
  {
   "cell_type": "code",
   "execution_count": 0,
   "metadata": {
    "application/vnd.databricks.v1+cell": {
     "cellMetadata": {
      "byteLimit": 2048000,
      "rowLimit": 10000
     },
     "inputWidgets": {},
     "nuid": "e6d58fcd-c03a-44c2-a94d-c02912ddcf79",
     "showTitle": false,
     "title": ""
    }
   },
   "outputs": [
    {
     "output_type": "stream",
     "name": "stdout",
     "output_type": "stream",
     "text": [
      "+--------------------+--------------------------+------------------+\n|Independent Features|service_runtime_amount_sec|        prediction|\n+--------------------+--------------------------+------------------+\n|    (5,[0],[2018.0])|                   2592000|    3096452.620701|\n|    (5,[0],[2018.0])|                   2592000|    3096452.620701|\n|    (5,[0],[2019.0])|                   2592000|3068420.2694369927|\n|    (5,[0],[2019.0])|                   2592000|3068420.2694369927|\n|    (5,[0],[2019.0])|                   2592000|3068420.2694369927|\n|    (5,[0],[2019.0])|                   2592000|3068420.2694369927|\n|    (5,[0],[2019.0])|                   2592000|3068420.2694369927|\n|    (5,[0],[2019.0])|                   2592000|3068420.2694369927|\n|    (5,[0],[2019.0])|                   2592000|3068420.2694369927|\n|    (5,[0],[2019.0])|                   2592000|3068420.2694369927|\n|    (5,[0],[2020.0])|                   2592000| 3040387.918172978|\n|    (5,[0],[2020.0])|                   2592000| 3040387.918172978|\n|    (5,[0],[2020.0])|                   2592000| 3040387.918172978|\n|    (5,[0],[2020.0])|                   2592000| 3040387.918172978|\n|    (5,[0],[2020.0])|                   2592000| 3040387.918172978|\n|    (5,[0],[2020.0])|                   2592000| 3040387.918172978|\n|    (5,[0],[2020.0])|                   2592000| 3040387.918172978|\n|    (5,[0],[2020.0])|                   2592000| 3040387.918172978|\n|    (5,[0],[2020.0])|                   2592000| 3040387.918172978|\n|    (5,[0],[2020.0])|                   2592000| 3040387.918172978|\n+--------------------+--------------------------+------------------+\nonly showing top 20 rows\n\n"
     ]
    }
   ],
   "source": [
    "### Predictions\n",
    "pred_results=regressor.evaluate(test_data)\n",
    "pred_results.predictions.show()"
   ]
  }
 ],
 "metadata": {
  "application/vnd.databricks.v1+notebook": {
   "dashboards": [],
   "language": "python",
   "notebookMetadata": {
    "pythonIndentUnit": 4
   },
   "notebookName": "Forecasting",
   "widgets": {}
  }
 },
 "nbformat": 4,
 "nbformat_minor": 0
}
